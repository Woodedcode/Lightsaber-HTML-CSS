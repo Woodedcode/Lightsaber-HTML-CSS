{
  "nbformat": 4,
  "nbformat_minor": 0,
  "metadata": {
    "colab": {
      "provenance": [],
      "authorship_tag": "ABX9TyP4X2Ai56T4KLRHTm47a2t9",
      "include_colab_link": true
    },
    "kernelspec": {
      "name": "python3",
      "display_name": "Python 3"
    },
    "language_info": {
      "name": "python"
    }
  },
  "cells": [
    {
      "cell_type": "markdown",
      "metadata": {
        "id": "view-in-github",
        "colab_type": "text"
      },
      "source": [
        "<a href=\"https://colab.research.google.com/github/Woodedcode/Lightsaber-HTML-CSS/blob/main/week_three.ipynb\" target=\"_parent\"><img src=\"https://colab.research.google.com/assets/colab-badge.svg\" alt=\"Open In Colab\"/></a>"
      ]
    },
    {
      "cell_type": "code",
      "execution_count": null,
      "metadata": {
        "id": "LEiTKGk3Md7y"
      },
      "outputs": [],
      "source": [
        "#REQUESTING DATA FROM AN API"
      ]
    },
    {
      "cell_type": "code",
      "source": [
        "#WHAT I CAN REMEMBER\n",
        "\n",
        "#import requests\n",
        "\n",
        "#query_parameters = {\n",
        "#    'language' : 'en'\n",
        "#}\n",
        "\n",
        "#response = requests.get('https://uselessfacts.jsph.pl/random.json', params=query_parameters).json(.get('text'))\n",
        "\n",
        "#print(response.text)\n",
        "\n",
        "\n",
        "\n",
        "#WATCHING VIDEO\n",
        "\n",
        "#modules - preavailable instead of being installed\n",
        "\n",
        "\n",
        "import requests\n",
        "\n",
        "type(requests)\n",
        "response = requests.get('https://uselessfacts.jsph.pl/random.json?language=en')\n",
        "\n",
        "print(response.text)\n",
        "\n",
        "\n",
        "response = requests.get('https://uselessfacts.jsph.pl/random.json', params=query_parameters)\n",
        "\n",
        "print(response.json().get('text'))"
      ],
      "metadata": {
        "colab": {
          "base_uri": "https://localhost:8080/"
        },
        "id": "GxJL_dW3M7ql",
        "outputId": "539b52a9-b5f3-422f-9fc2-795389bc0587"
      },
      "execution_count": 14,
      "outputs": [
        {
          "output_type": "stream",
          "name": "stdout",
          "text": [
            "{\"id\":\"0e8939433929027d62bad82817e01fe8\",\"text\":\"Worcestershire sauce in essentially an Anchovy Ketchup.\",\"source\":\"djtech.net\",\"source_url\":\"http://www.djtech.net/humor/useless_facts.htm\",\"language\":\"en\",\"permalink\":\"https://uselessfacts.jsph.pl/api/v2/facts/0e8939433929027d62bad82817e01fe8\"}\n",
            "\n"
          ]
        }
      ]
    },
    {
      "cell_type": "code",
      "source": [
        "import requests\n",
        "\n",
        "query_parameters = {\n",
        "    'lamguage' : 'en'\n",
        "}\n",
        "\n",
        "response = requests.get('https://uselessfacts.jsph.pl/random.json', params=query_parameters)\n",
        "\n",
        "print(response.json().get('text'))"
      ],
      "metadata": {
        "colab": {
          "base_uri": "https://localhost:8080/",
          "height": 36
        },
        "id": "Vfry_EnZRH2i",
        "outputId": "f003b0bf-c6f5-4d5d-ae1d-066c8e8f0517"
      },
      "execution_count": 21,
      "outputs": [
        {
          "output_type": "execute_result",
          "data": {
            "text/plain": [
              "'The cruise liner, Queen Elizabeth II, moves only six inches for each gallon of diesel that it burns.'"
            ],
            "application/vnd.google.colaboratory.intrinsic+json": {
              "type": "string"
            }
          },
          "metadata": {},
          "execution_count": 21
        }
      ]
    }
  ]
}