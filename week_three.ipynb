{
  "nbformat": 4,
  "nbformat_minor": 0,
  "metadata": {
    "colab": {
      "provenance": [],
      "authorship_tag": "ABX9TyNcV6ftGtew+IgOlw1SLvEI",
      "include_colab_link": true
    },
    "kernelspec": {
      "name": "python3",
      "display_name": "Python 3"
    },
    "language_info": {
      "name": "python"
    }
  },
  "cells": [
    {
      "cell_type": "markdown",
      "metadata": {
        "id": "view-in-github",
        "colab_type": "text"
      },
      "source": [
        "<a href=\"https://colab.research.google.com/github/Woodedcode/Lightsaber-HTML-CSS/blob/main/week_three.ipynb\" target=\"_parent\"><img src=\"https://colab.research.google.com/assets/colab-badge.svg\" alt=\"Open In Colab\"/></a>"
      ]
    },
    {
      "cell_type": "markdown",
      "source": [
        "##REQUESTING DATA FROM AN API\n",
        "\n",
        "\n"
      ],
      "metadata": {
        "id": "3B1H0l0MZkIV"
      }
    },
    {
      "cell_type": "code",
      "source": [
        "#WHAT I CAN REMEMBER\n",
        "\n",
        "#import requests\n",
        "\n",
        "#query_parameters = {\n",
        "#    'language' : 'en'\n",
        "#}\n",
        "\n",
        "#response = requests.get('https://uselessfacts.jsph.pl/random.json', params=query_parameters).json(.get('text'))\n",
        "\n",
        "#print(response.text)\n",
        "\n",
        "\n",
        "\n",
        "#WATCHING VIDEO\n",
        "\n",
        "#modules - preavailable instead of being installed\n",
        "\n",
        "\n",
        "import requests\n",
        "\n",
        "type(requests)\n",
        "response = requests.get('https://uselessfacts.jsph.pl/random.json?language=en')\n",
        "\n",
        "print(response.text)\n",
        "\n",
        "\n",
        "response = requests.get('https://uselessfacts.jsph.pl/random.json', params=query_parameters)\n",
        "\n",
        "print(response.json().get('text'))"
      ],
      "metadata": {
        "colab": {
          "base_uri": "https://localhost:8080/"
        },
        "id": "GxJL_dW3M7ql",
        "outputId": "539b52a9-b5f3-422f-9fc2-795389bc0587"
      },
      "execution_count": 14,
      "outputs": [
        {
          "output_type": "stream",
          "name": "stdout",
          "text": [
            "{\"id\":\"0e8939433929027d62bad82817e01fe8\",\"text\":\"Worcestershire sauce in essentially an Anchovy Ketchup.\",\"source\":\"djtech.net\",\"source_url\":\"http://www.djtech.net/humor/useless_facts.htm\",\"language\":\"en\",\"permalink\":\"https://uselessfacts.jsph.pl/api/v2/facts/0e8939433929027d62bad82817e01fe8\"}\n",
            "\n"
          ]
        }
      ]
    },
    {
      "cell_type": "code",
      "source": [
        "import requests\n",
        "\n",
        "query_parameters = {\n",
        "    'lamguage' : 'en'\n",
        "}\n",
        "\n",
        "response = requests.get('https://uselessfacts.jsph.pl/random.json', params=query_parameters)\n",
        "\n",
        "print(response.json().get('text'))"
      ],
      "metadata": {
        "colab": {
          "base_uri": "https://localhost:8080/",
          "height": 36
        },
        "id": "Vfry_EnZRH2i",
        "outputId": "f003b0bf-c6f5-4d5d-ae1d-066c8e8f0517"
      },
      "execution_count": 21,
      "outputs": [
        {
          "output_type": "execute_result",
          "data": {
            "text/plain": [
              "'The cruise liner, Queen Elizabeth II, moves only six inches for each gallon of diesel that it burns.'"
            ],
            "application/vnd.google.colaboratory.intrinsic+json": {
              "type": "string"
            }
          },
          "metadata": {},
          "execution_count": 21
        }
      ]
    },
    {
      "cell_type": "markdown",
      "source": [
        "##BUILT IN DATA STRUCTURES\n",
        "\n",
        "COLLECTIONS - **LIST**, **SETS**, **DICTIONARIES**, **TUPLES**\n",
        "\n",
        "```\n",
        "# This is formatted as code\n",
        "```\n",
        "\n"
      ],
      "metadata": {
        "id": "K9p0J633TsKZ"
      }
    },
    {
      "cell_type": "code",
      "source": [
        "\n",
        "data = ['Caleb', 'You']\n",
        "\n",
        "print(data[0])\n",
        "\n",
        "#To add to the data list\n",
        "data.append('Jimmy')\n",
        "data.append(['hello'])\n",
        "data.append(5)\n",
        "print(data)"
      ],
      "metadata": {
        "colab": {
          "base_uri": "https://localhost:8080/"
        },
        "id": "yG3GTQtlTybs",
        "outputId": "52508cce-f924-48a3-a157-688d0db7312e"
      },
      "execution_count": 41,
      "outputs": [
        {
          "output_type": "stream",
          "name": "stdout",
          "text": [
            "Caleb\n",
            "['Caleb', 'You', 'Jimmy', ['hello'], 5]\n"
          ]
        }
      ]
    },
    {
      "cell_type": "markdown",
      "source": [
        "#SLICING WITH LISTS\n",
        "\n",
        "**first** - starting point (inclusive).  \n",
        "**second** - the you want to go up to (exclusive).  \n",
        "**third** - step."
      ],
      "metadata": {
        "id": "fJFTHdwfZK6Y"
      }
    },
    {
      "cell_type": "code",
      "source": [
        "data = ['Caleb', 'Ryan', 'Annie', 'Olive']\n",
        "\n",
        "data[1:4:2]\n"
      ],
      "metadata": {
        "colab": {
          "base_uri": "https://localhost:8080/"
        },
        "id": "HynHjleLWjrS",
        "outputId": "00afecd8-e683-4655-bdbd-8f98b7fb570f"
      },
      "execution_count": 46,
      "outputs": [
        {
          "output_type": "execute_result",
          "data": {
            "text/plain": [
              "['Ryan', 'Olive']"
            ]
          },
          "metadata": {},
          "execution_count": 46
        }
      ]
    },
    {
      "cell_type": "markdown",
      "source": [
        "#DICTIONARIES AND SETS"
      ],
      "metadata": {
        "id": "-Q0xA2eaZqK4"
      }
    },
    {
      "cell_type": "code",
      "source": [
        "data = ['Caleb', 'Jimmy', 'Ryan', 'Annie', 'Olive']\n",
        "data_dictionary = {\n",
        "    'Caleb' : 6,\n",
        "    'Jiummy' : 8,\n",
        "    'Ryan' : 5,\n",
        "    'Annie' : 10,\n",
        "    'Olive' : 12\n",
        "}\n",
        "\n",
        "print(data)\n",
        "print(data_dictionary.get('Olive'))"
      ],
      "metadata": {
        "colab": {
          "base_uri": "https://localhost:8080/"
        },
        "id": "4TDn4nQzZvWj",
        "outputId": "86bad2dd-e718-4e31-f929-7a7832118a6c"
      },
      "execution_count": 51,
      "outputs": [
        {
          "output_type": "stream",
          "name": "stdout",
          "text": [
            "['Caleb', 'Jimmy', 'Ryan', 'Annie', 'Olive']\n",
            "12\n"
          ]
        }
      ]
    },
    {
      "cell_type": "markdown",
      "source": [
        "#CONTROL FLOW - Loops and conditionals"
      ],
      "metadata": {
        "id": "si_oAcQuakF0"
      }
    },
    {
      "cell_type": "code",
      "source": [],
      "metadata": {
        "id": "1prbbpBUaqtl"
      },
      "execution_count": null,
      "outputs": []
    }
  ]
}