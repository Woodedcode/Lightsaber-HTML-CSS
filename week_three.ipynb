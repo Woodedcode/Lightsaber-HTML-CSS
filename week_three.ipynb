{
  "cells": [
    {
      "cell_type": "markdown",
      "metadata": {
        "id": "view-in-github",
        "colab_type": "text"
      },
      "source": [
        "<a href=\"https://colab.research.google.com/github/Woodedcode/Lightsaber-HTML-CSS/blob/main/week_three.ipynb\" target=\"_parent\"><img src=\"https://colab.research.google.com/assets/colab-badge.svg\" alt=\"Open In Colab\"/></a>"
      ]
    },
    {
      "cell_type": "markdown",
      "metadata": {
        "id": "3B1H0l0MZkIV"
      },
      "source": [
        "##REQUESTING DATA FROM AN API\n",
        "\n",
        "\n"
      ]
    },
    {
      "cell_type": "code",
      "execution_count": null,
      "metadata": {
        "colab": {
          "base_uri": "https://localhost:8080/"
        },
        "id": "GxJL_dW3M7ql",
        "outputId": "539b52a9-b5f3-422f-9fc2-795389bc0587"
      },
      "outputs": [
        {
          "name": "stdout",
          "output_type": "stream",
          "text": [
            "{\"id\":\"0e8939433929027d62bad82817e01fe8\",\"text\":\"Worcestershire sauce in essentially an Anchovy Ketchup.\",\"source\":\"djtech.net\",\"source_url\":\"http://www.djtech.net/humor/useless_facts.htm\",\"language\":\"en\",\"permalink\":\"https://uselessfacts.jsph.pl/api/v2/facts/0e8939433929027d62bad82817e01fe8\"}\n",
            "\n"
          ]
        }
      ],
      "source": [
        "#WHAT I CAN REMEMBER\n",
        "\n",
        "#import requests\n",
        "\n",
        "#query_parameters = {\n",
        "#    'language' : 'en'\n",
        "#}\n",
        "\n",
        "#response = requests.get('https://uselessfacts.jsph.pl/random.json', params=query_parameters).json(.get('text'))\n",
        "\n",
        "#print(response.text)\n",
        "\n",
        "\n",
        "\n",
        "#WATCHING VIDEO\n",
        "\n",
        "#modules - preavailable instead of being installed\n",
        "\n",
        "\n",
        "import requests\n",
        "\n",
        "type(requests)\n",
        "response = requests.get('https://uselessfacts.jsph.pl/random.json?language=en')\n",
        "\n",
        "print(response.text)\n",
        "\n",
        "\n",
        "response = requests.get('https://uselessfacts.jsph.pl/random.json', params=query_parameters)\n",
        "\n",
        "print(response.json().get('text'))"
      ]
    },
    {
      "cell_type": "code",
      "execution_count": null,
      "metadata": {
        "colab": {
          "base_uri": "https://localhost:8080/",
          "height": 54
        },
        "id": "Vfry_EnZRH2i",
        "outputId": "f003b0bf-c6f5-4d5d-ae1d-066c8e8f0517"
      },
      "outputs": [
        {
          "data": {
            "application/vnd.google.colaboratory.intrinsic+json": {
              "type": "string"
            },
            "text/plain": [
              "'The cruise liner, Queen Elizabeth II, moves only six inches for each gallon of diesel that it burns.'"
            ]
          },
          "execution_count": 21,
          "metadata": {},
          "output_type": "execute_result"
        }
      ],
      "source": [
        "import requests\n",
        "\n",
        "query_parameters = {\n",
        "    'lamguage' : 'en'\n",
        "}\n",
        "\n",
        "response = requests.get('https://uselessfacts.jsph.pl/random.json', params=query_parameters)\n",
        "\n",
        "print(response.json().get('text'))"
      ]
    },
    {
      "cell_type": "markdown",
      "metadata": {
        "id": "K9p0J633TsKZ"
      },
      "source": [
        "##BUILT IN DATA STRUCTURES\n",
        "\n",
        "COLLECTIONS - **LIST**, **SETS**, **DICTIONARIES**, **TUPLES**\n",
        "\n",
        "```\n",
        "# This is formatted as code\n",
        "```\n",
        "\n"
      ]
    },
    {
      "cell_type": "code",
      "execution_count": null,
      "metadata": {
        "colab": {
          "base_uri": "https://localhost:8080/"
        },
        "id": "yG3GTQtlTybs",
        "outputId": "52508cce-f924-48a3-a157-688d0db7312e"
      },
      "outputs": [
        {
          "name": "stdout",
          "output_type": "stream",
          "text": [
            "Caleb\n",
            "['Caleb', 'You', 'Jimmy', ['hello'], 5]\n"
          ]
        }
      ],
      "source": [
        "\n",
        "data = ['Caleb', 'You']\n",
        "\n",
        "print(data[0])\n",
        "\n",
        "#To add to the data list\n",
        "data.append('Jimmy')\n",
        "data.append(['hello'])\n",
        "data.append(5)\n",
        "print(data)"
      ]
    },
    {
      "cell_type": "markdown",
      "metadata": {
        "id": "fJFTHdwfZK6Y"
      },
      "source": [
        "#SLICING WITH LISTS\n",
        "\n",
        "**first** - starting point (inclusive).  \n",
        "**second** - the you want to go up to (exclusive).  \n",
        "**third** - step."
      ]
    },
    {
      "cell_type": "code",
      "execution_count": null,
      "metadata": {
        "colab": {
          "base_uri": "https://localhost:8080/"
        },
        "id": "HynHjleLWjrS",
        "outputId": "00afecd8-e683-4655-bdbd-8f98b7fb570f"
      },
      "outputs": [
        {
          "data": {
            "text/plain": [
              "['Ryan', 'Olive']"
            ]
          },
          "execution_count": 46,
          "metadata": {},
          "output_type": "execute_result"
        }
      ],
      "source": [
        "data = ['Caleb', 'Ryan', 'Annie', 'Olive']\n",
        "\n",
        "data[1:4:2]\n"
      ]
    },
    {
      "cell_type": "markdown",
      "metadata": {
        "id": "-Q0xA2eaZqK4"
      },
      "source": [
        "#DICTIONARIES AND SETS"
      ]
    },
    {
      "cell_type": "code",
      "execution_count": null,
      "metadata": {
        "colab": {
          "base_uri": "https://localhost:8080/"
        },
        "id": "4TDn4nQzZvWj",
        "outputId": "86bad2dd-e718-4e31-f929-7a7832118a6c"
      },
      "outputs": [
        {
          "name": "stdout",
          "output_type": "stream",
          "text": [
            "['Caleb', 'Jimmy', 'Ryan', 'Annie', 'Olive']\n",
            "12\n"
          ]
        }
      ],
      "source": [
        "data = ['Caleb', 'Jimmy', 'Ryan', 'Annie', 'Olive']\n",
        "data_dictionary = {\n",
        "    'Caleb' : 6,\n",
        "    'Jiummy' : 8,\n",
        "    'Ryan' : 5,\n",
        "    'Annie' : 10,\n",
        "    'Olive' : 12\n",
        "}\n",
        "\n",
        "print(data)\n",
        "print(data_dictionary.get('Olive'))"
      ]
    },
    {
      "cell_type": "markdown",
      "metadata": {
        "id": "si_oAcQuakF0"
      },
      "source": [
        "#CONTROL FLOW - Loops and conditionals\n",
        "Iteration - One time through the loop"
      ]
    },
    {
      "cell_type": "code",
      "execution_count": null,
      "metadata": {
        "colab": {
          "base_uri": "https://localhost:8080/"
        },
        "id": "1prbbpBUaqtl",
        "outputId": "2268eb2d-2666-4171-c040-d0bedf36c177"
      },
      "outputs": [
        {
          "name": "stdout",
          "output_type": "stream",
          "text": [
            "a\n",
            "b\n",
            "c\n",
            "d\n",
            "e\n"
          ]
        }
      ],
      "source": [
        "data = ['a','b','c','d','e']\n",
        "\n",
        "#for i in range(10):\n",
        " # print(i)\n",
        "  #incresed here\n",
        "\n",
        "#print(len(data))\n",
        "#len() - is length\n",
        "for i in range(len(data)):\n",
        "  print(data[i])"
      ]
    },
    {
      "cell_type": "code",
      "execution_count": null,
      "metadata": {
        "colab": {
          "base_uri": "https://localhost:8080/"
        },
        "id": "4e1peuoqdkEw",
        "outputId": "c1ce77b6-c863-4158-f34c-8382945d7d2f"
      },
      "outputs": [
        {
          "name": "stdout",
          "output_type": "stream",
          "text": [
            "Caleb\n",
            "Jimmy\n",
            "Ryan\n",
            "Annie\n",
            "Olive\n"
          ]
        }
      ],
      "source": [
        "#for each loop\n",
        "data = ['Caleb', 'Jimmy', 'Ryan', 'Annie', 'Olive']\n",
        "\n",
        "for letter in data:\n",
        "  print(letter[:])\n",
        "#preffered way\n",
        "\n",
        "\n",
        "#__iter__()"
      ]
    },
    {
      "cell_type": "code",
      "execution_count": null,
      "metadata": {
        "colab": {
          "base_uri": "https://localhost:8080/"
        },
        "id": "wUu_7JiieeDH",
        "outputId": "fed9d0e9-3657-4280-eef9-a1639379cb57"
      },
      "outputs": [
        {
          "name": "stdout",
          "output_type": "stream",
          "text": [
            "0 a\n",
            "1 b\n",
            "2 c\n",
            "3 d\n",
            "4 e\n"
          ]
        }
      ],
      "source": [
        "data = ['a','b','c','d','e']\n",
        "\n",
        "for i, letter in enumerate(data):\n",
        "  print(i, letter)"
      ]
    },
    {
      "cell_type": "code",
      "execution_count": null,
      "metadata": {
        "colab": {
          "base_uri": "https://localhost:8080/"
        },
        "id": "YKoubQr_fN8W",
        "outputId": "7ec1a90e-01c5-42f1-beeb-85f95af2a37d"
      },
      "outputs": [
        {
          "name": "stdout",
          "output_type": "stream",
          "text": [
            "a b c d e hello\n",
            "It wasnt stop or special\n",
            "printing data...\n",
            "special\n",
            "winner\n",
            "It wasnt stop or special\n",
            "printing data...\n",
            "stop\n"
          ]
        }
      ],
      "source": [
        "#while loop\n",
        "data = ['a','b','c','d','e']\n",
        "\n",
        "i = 0\n",
        "\n",
        "while i < len(data):\n",
        "  print(data[i], end=\" \")\n",
        "  i += 1\n",
        "\n",
        "while True:\n",
        "  x = input()\n",
        "  if x == \"stop\":\n",
        "    break\n",
        "  elif x == \"special\":\n",
        "    continue\n",
        "  print(\"It wasnt stop or special\")\n",
        "  print(\"printing data...\")\n"
      ]
    },
    {
      "cell_type": "markdown",
      "metadata": {
        "id": "s8cGej9dftWW"
      },
      "source": []
    },
    {
      "cell_type": "markdown",
      "metadata": {
        "id": "M6YDlgE_gwa-"
      },
      "source": [
        "#ITERATING THROUGH A DICTIONARY"
      ]
    },
    {
      "cell_type": "code",
      "execution_count": null,
      "metadata": {
        "colab": {
          "base_uri": "https://localhost:8080/"
        },
        "id": "Uca86Nl7g0GU",
        "outputId": "226561a2-ed4f-4461-83f4-cc40774c91a6"
      },
      "outputs": [
        {
          "name": "stdout",
          "output_type": "stream",
          "text": [
            "Caleb 6\n",
            "Jiummy 8\n",
            "we found 5\n"
          ]
        }
      ],
      "source": [
        "data_dictionary = {\n",
        "    'Caleb' : 6,\n",
        "    'Jiummy' : 8,\n",
        "    'Ryan' : 5,\n",
        "    'Annie' : 10,\n",
        "    'Olive' : 12\n",
        "}\n",
        "\n",
        "for key, value in data_dictionary.items():\n",
        "  if value == 5:\n",
        "    print('we found 5')\n",
        "    break\n",
        "  print(key,value)"
      ]
    },
    {
      "cell_type": "markdown",
      "metadata": {
        "id": "eCGLo37nV0Yq"
      },
      "source": [
        "#CUSTOM FUNCTIONS\n",
        "\n",
        "Generate a random number - random module.  \n",
        "do while - Python doesnt have this built in.  \n",
        "do something once - possibly repeat it.  \n",
        "Ask us for a number. if we get it wrong, ask again.\n",
        "\n",
        "logic for right/wrong: guessed == corret value\n",
        "\n",
        "#guessing game\n"
      ]
    },
    {
      "cell_type": "code",
      "source": [
        "from random import randint\n",
        "low = 0\n",
        "high = 100\n",
        "correct = randint(low,high)\n",
        "print(f'Guess a number between {low} and {high}')\n",
        "while True:\n",
        "  guess = int(input())\n",
        "\n",
        "  if guess < correct:\n",
        "    print(\"Guess higher\")\n",
        "  elif guess > correct:\n",
        "    print(\"Guess lower\")\n",
        "  else:\n",
        "      print(\"You win!\")\n",
        "      break\n",
        "  # do something\n",
        "  # check to see if we should do it again"
      ],
      "metadata": {
        "colab": {
          "base_uri": "https://localhost:8080/"
        },
        "id": "i1GP5fgtv3dF",
        "outputId": "eb0ad5bb-6d49-44fc-afa8-7cbc39b9d0dc"
      },
      "execution_count": 26,
      "outputs": [
        {
          "output_type": "stream",
          "name": "stdout",
          "text": [
            "Guess a number between 0 and 2\n",
            "0\n",
            "You win!\n"
          ]
        }
      ]
    },
    {
      "cell_type": "markdown",
      "source": [
        "# Jupyter + GitHub\n",
        "\n",
        "Self explanatory\n",
        "\n",
        "on terminal, run 'jupyter-lab' and it will begin to run on a local system\n"
      ],
      "metadata": {
        "id": "wwVPn-eS_OHd"
      }
    }
  ],
  "metadata": {
    "colab": {
      "provenance": [],
      "authorship_tag": "ABX9TyNLdQNYXYIJSaHYQGoS9gY3",
      "include_colab_link": true
    },
    "kernelspec": {
      "display_name": "Python 3",
      "name": "python3"
    },
    "language_info": {
      "name": "python"
    }
  },
  "nbformat": 4,
  "nbformat_minor": 0
}